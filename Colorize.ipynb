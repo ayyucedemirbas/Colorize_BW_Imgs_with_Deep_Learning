{
 "cells": [
  {
   "cell_type": "code",
   "execution_count": 1,
   "id": "e940f3a2",
   "metadata": {},
   "outputs": [],
   "source": [
    "import numpy as np\n",
    "import cv2 as cv\n",
    "import os.path"
   ]
  },
  {
   "cell_type": "code",
   "execution_count": 2,
   "id": "cf0428e2",
   "metadata": {},
   "outputs": [],
   "source": [
    "frame = cv.imread(\"./image.jpeg\")\n",
    "numpy_file = np.load('./pts_in_hull.npy')\n",
    "Caffe_net = cv.dnn.readNetFromCaffe(\"./colorization_deploy_v2.prototxt\", \"./colorization_release_v2.caffemodel\")"
   ]
  },
  {
   "cell_type": "code",
   "execution_count": 3,
   "id": "2e34385d",
   "metadata": {},
   "outputs": [],
   "source": [
    "numpy_file = numpy_file.transpose().reshape(2, 313, 1, 1)\n",
    "Caffe_net.getLayer(Caffe_net.getLayerId('class8_ab')).blobs = [numpy_file.astype(np.float32)]\n",
    "Caffe_net.getLayer(Caffe_net.getLayerId('conv8_313_rh')).blobs = [np.full([1, 313], 2.606, np.float32)]"
   ]
  },
  {
   "cell_type": "code",
   "execution_count": 4,
   "id": "5c824bae",
   "metadata": {},
   "outputs": [],
   "source": [
    "input_width = 224\n",
    "input_height = 224\n",
    "\n",
    "rgb_img = (frame[:,:,[2, 1, 0]] * 1.0 / 255).astype(np.float32)\n",
    "lab_img = cv.cvtColor(rgb_img, cv.COLOR_RGB2Lab)\n",
    "l_channel = lab_img[:,:,0] \n",
    "\n",
    "l_channel_resize = cv.resize(l_channel, (input_width, input_height)) \n",
    "l_channel_resize -= 50"
   ]
  },
  {
   "cell_type": "code",
   "execution_count": 5,
   "id": "dc944bb2",
   "metadata": {},
   "outputs": [
    {
     "data": {
      "text/plain": [
       "True"
      ]
     },
     "execution_count": 5,
     "metadata": {},
     "output_type": "execute_result"
    }
   ],
   "source": [
    "Caffe_net.setInput(cv.dnn.blobFromImage(l_channel_resize))\n",
    "ab_channel = Caffe_net.forward()[0,:,:,:].transpose((1,2,0)) \n",
    "\n",
    "(original_height,original_width) = rgb_img.shape[:2] \n",
    "ab_channel_us = cv.resize(ab_channel, (original_width, original_height))\n",
    "lab_output = np.concatenate((l_channel[:,:,np.newaxis],ab_channel_us),axis=2) \n",
    "bgr_output = np.clip(cv.cvtColor(lab_output, cv.COLOR_Lab2BGR), 0, 1)\n",
    "\n",
    "cv.imwrite(\"./result.png\", (bgr_output*255).astype(np.uint8))"
   ]
  }
 ],
 "metadata": {
  "kernelspec": {
   "display_name": "Python 3 (ipykernel)",
   "language": "python",
   "name": "python3"
  },
  "language_info": {
   "codemirror_mode": {
    "name": "ipython",
    "version": 3
   },
   "file_extension": ".py",
   "mimetype": "text/x-python",
   "name": "python",
   "nbconvert_exporter": "python",
   "pygments_lexer": "ipython3",
   "version": "3.8.12"
  }
 },
 "nbformat": 4,
 "nbformat_minor": 5
}
